{
 "cells": [
  {
   "cell_type": "code",
   "execution_count": 1,
   "metadata": {},
   "outputs": [],
   "source": [
    "import pandas as pd\n",
    "import numpy as np\n",
    "\n",
    "from sklearn.model_selection import KFold\n",
    "from sklearn.metrics import root_mean_squared_error\n",
    "from sklearn.preprocessing import StandardScaler\n",
    "from sklearn.svm import SVR\n",
    "\n",
    "import xgboost as xgb\n",
    "\n",
    "import matplotlib.pyplot as plt\n",
    "import seaborn as sns\n",
    "\n",
    "import warnings\n",
    "warnings.filterwarnings('ignore')"
   ]
  },
  {
   "cell_type": "code",
   "execution_count": 2,
   "metadata": {},
   "outputs": [],
   "source": [
    "data = pd.read_csv(\"data/final_data.csv\")"
   ]
  },
  {
   "cell_type": "code",
   "execution_count": 3,
   "metadata": {},
   "outputs": [],
   "source": [
    "X = data.drop(columns=[\"fare_amount\", \"key\"])\n",
    "y = data[\"fare_amount\"]"
   ]
  },
  {
   "cell_type": "code",
   "execution_count": 4,
   "metadata": {},
   "outputs": [],
   "source": [
    "def standardize_train_val(X_train, X_val, features_to_scale):\n",
    "    \"\"\"\n",
    "    Standardize the training and validation sets separately to prevent data leakage.\n",
    "\n",
    "    Parameters:\n",
    "    - X_train: DataFrame, training features\n",
    "    - X_val: DataFrame, validation features\n",
    "    - features_to_scale: list, names of the features to be standardized\n",
    "\n",
    "    Returns:\n",
    "    - X_train_scaled: DataFrame, standardized training features\n",
    "    - X_val_scaled: DataFrame, standardized validation features\n",
    "    \"\"\"\n",
    "    scaler = StandardScaler()\n",
    "\n",
    "    X_train.loc[:, features_to_scale] = scaler.fit_transform(X_train[features_to_scale])\n",
    "    X_val.loc[:, features_to_scale] = scaler.transform(X_val[features_to_scale])\n",
    "    \n",
    "    return X_train, X_val"
   ]
  },
  {
   "cell_type": "code",
   "execution_count": 5,
   "metadata": {},
   "outputs": [],
   "source": [
    "features_to_scale = [\n",
    "    \"distance_km\", \n",
    "    \"oil_price\", \n",
    "    \"passenger_count\", \n",
    "    \"feat1\", \n",
    "    \"feat2\", \n",
    "    \"feat3\", \n",
    "    \"feat4\", \n",
    "    \"feat5\", \n",
    "    \"feat6\", \n",
    "    \"feat7\", \n",
    "    \"feat8\", \n",
    "    \"feat9\", \n",
    "    \"feat10\",\n",
    "    \"TMIN\",\n",
    "    \"TMAX\",\n",
    "    \"PRCP\",\n",
    "    \"SNOW\",\n",
    "    \"SNWD\",\n",
    "]\n",
    "\n",
    "param_dist = {\n",
    "    'n_estimators': [100, 120, 125, 135, 150],\n",
    "    'learning_rate': [0.01, 0.02, 0.03, 0.04, 0.05, 0.06, 0.07, 0.08, 0.09, 0.1],\n",
    "    'max_depth': [5, 6, 7, 8, 9],\n",
    "    'subsample': [0.6, 0.65, 0.7, 0.75, 0.8, 0.85, 0.9, 1.0],\n",
    "    'colsample_bytree': [0.6, 0.65, 0.7, 0.75, 0.8, 0.9, 1.0],\n",
    "    'gamma': [0.1, 0.15, 0.2, 0.25, 0.3],\n",
    "    'min_child_weight': [9, 10, 11, 12, 13, 14, 15, 16, 17, 18], \n",
    "    'reg_alpha': [0, 0.05, 0.07, 0.1, 0.12, 0.15, 0.2 ],\n",
    "    'reg_lambda': [1.0, 2.0, 3.0, 4.0, 5.0]\n",
    "}"
   ]
  },
  {
   "cell_type": "code",
   "execution_count": 31,
   "metadata": {},
   "outputs": [],
   "source": [
    "def cross_validate_random_search_xgboost(X, y, param_dist, features_to_scale, cv=10, n_iter=10, random_state=42):\n",
    "    \"\"\"\n",
    "    Cross-validate a Random Search XGBoost model and calculate RMSE.\n",
    "\n",
    "    Parameters:\n",
    "    - X: DataFrame, features\n",
    "    - y: Series, target variable\n",
    "    - features_to_scale: list, names of the features to be standardized\n",
    "    - cv: int, number of cross-validation folds\n",
    "    - n_iter: int, number of iterations for Random Search\n",
    "    - random_state: int, random seed for reproducibility\n",
    "\n",
    "    Returns:\n",
    "    - mean_rmse: float, mean RMSE across all folds\n",
    "    - std_rmse: float, standard deviation of RMSE across all folds\n",
    "    \"\"\"\n",
    "    skf = KFold(n_splits=cv, shuffle=True, random_state=random_state)\n",
    "    rmse_scores = []\n",
    "    param_sets = []\n",
    "\n",
    "    # custom Random Search, because of KFold\n",
    "    for i in range(n_iter):\n",
    "        params = {k: np.random.choice(v) for k, v in param_dist.items()}\n",
    "        param_sets.append(params)\n",
    "\n",
    "    for params in param_sets:\n",
    "        fold_rmse_scores = []\n",
    "\n",
    "        for train_idx, test_idx in skf.split(X, y):\n",
    "            X_train, X_test = X.iloc[train_idx], X.iloc[test_idx]\n",
    "            y_train, y_test = y.iloc[train_idx], y.iloc[test_idx]\n",
    "\n",
    "            X_train, X_test = standardize_train_val(X_train, X_test, features_to_scale)\n",
    "\n",
    "            model = xgb.XGBRegressor(**params, random_state=random_state)\n",
    "            model.fit(X_train, y_train)\n",
    "\n",
    "            y_pred = model.predict(X_test)\n",
    "            rmse = root_mean_squared_error(y_test, y_pred)\n",
    "            fold_rmse_scores.append(rmse)\n",
    "\n",
    "        mean_rmse = np.mean(fold_rmse_scores)\n",
    "        rmse_scores.append(mean_rmse)\n",
    "\n",
    "        print(f\"Hyperparameters: {params}\")\n",
    "        print(f\"Mean RMSE: {mean_rmse}\")\n",
    "        print(\"-\" * 50)\n",
    "\n",
    "    best_index = np.argmin(rmse_scores)\n",
    "    best_params = param_sets[best_index]\n",
    "    best_rmse = rmse_scores[best_index]\n",
    "\n",
    "    return best_params, best_rmse"
   ]
  },
  {
   "cell_type": "code",
   "execution_count": null,
   "metadata": {},
   "outputs": [],
   "source": [
    "best_params, best_rmse = cross_validate_random_search_xgboost(X, y, \n",
    "                    param_dist=param_dist, \n",
    "                    features_to_scale=features_to_scale, \n",
    "                    cv=10, n_iter=200, random_state=42)\n",
    "\n",
    "print(f\"Best Hyperparameters: {best_params}\")\n",
    "print(f\"Best Cross-Validated RMSE: {best_rmse}\")\n",
    "\n",
    "#1 Best Hyperparameters: {'n_estimators': 100, 'learning_rate': 0.08, 'max_depth': 7, 'subsample': 0.9, 'colsample_bytree': 1.0, 'gamma': 0.1, 'min_child_weight': 15, 'reg_alpha': 0.0, 'reg_lambda': 5.0}\n",
    "#1 Best Cross-Validated RMSE: 4.844881189242644"
   ]
  },
  {
   "cell_type": "markdown",
   "metadata": {},
   "source": [
    "## NN"
   ]
  },
  {
   "cell_type": "code",
   "execution_count": 6,
   "metadata": {},
   "outputs": [
    {
     "name": "stdout",
     "output_type": "stream",
     "text": [
      "WARNING:tensorflow:From c:\\Users\\kaszt\\AppData\\Local\\Programs\\Python\\Python310\\lib\\site-packages\\keras\\src\\losses.py:2976: The name tf.losses.sparse_softmax_cross_entropy is deprecated. Please use tf.compat.v1.losses.sparse_softmax_cross_entropy instead.\n",
      "\n"
     ]
    }
   ],
   "source": [
    "from tensorflow.keras import layers\n",
    "import tensorflow as tf\n",
    "from kerastuner import Objective\n",
    "from kerastuner.tuners import RandomSearch, BayesianOptimization\n",
    "from kerastuner.engine.hyperparameters import HyperParameters\n",
    "import random\n",
    "\n",
    "from sklearn.model_selection import train_test_split\n",
    "\n",
    "tf.random.set_seed(42)\n",
    "np.random.seed(42)\n",
    "random.seed(42)"
   ]
  },
  {
   "cell_type": "code",
   "execution_count": 57,
   "metadata": {},
   "outputs": [],
   "source": [
    "X_train, X_test, y_train, y_test = train_test_split(X, y, test_size=0.2, random_state=42)"
   ]
  },
  {
   "cell_type": "code",
   "execution_count": 7,
   "metadata": {},
   "outputs": [
    {
     "data": {
      "text/plain": [
       "32"
      ]
     },
     "execution_count": 7,
     "metadata": {},
     "output_type": "execute_result"
    }
   ],
   "source": [
    "input_shape = X.shape[1]\n",
    "input_shape"
   ]
  },
  {
   "cell_type": "code",
   "execution_count": 46,
   "metadata": {},
   "outputs": [],
   "source": [
    "nn_model = tf.keras.models.Sequential([\n",
    "    tf.keras.layers.Dense(units=input_shape, activation='relu', input_shape=(input_shape,), name=\"input_layer\"),\n",
    "    tf.keras.layers.Dense(units=128, activation='relu', name=\"hidden_layer1\"),\n",
    "    tf.keras.layers.Dense(units=128, activation='relu', name=\"hidden_layer2\"),\n",
    "    tf.keras.layers.Dense(units=64, activation='relu', name=\"hidden_layer3\"),\n",
    "    tf.keras.layers.Dense(units=64, activation='relu', name=\"hidden_layer4\"),\n",
    "    tf.keras.layers.Dense(units=32, activation='relu', name=\"hidden_layer5\"),\n",
    "    tf.keras.layers.Dense(units=64, activation='relu', name=\"hidden_layer6\"),\n",
    "    tf.keras.layers.Dense(units=32, activation='relu', name=\"hidden_layer7\"),\n",
    "    tf.keras.layers.Dense(units=32, activation='relu', name=\"hidden_layer8\"),\n",
    "    tf.keras.layers.Dense(units=16, activation='relu', name=\"hidden_layer9\"),\n",
    "    tf.keras.layers.Dense(1, activation=None, name=\"output_layer\")\n",
    "])"
   ]
  },
  {
   "cell_type": "code",
   "execution_count": 47,
   "metadata": {},
   "outputs": [],
   "source": [
    "nn_model.compile(\n",
    "    loss=tf.keras.losses.MeanSquaredError(),\n",
    "    optimizer=tf.keras.optimizers.Adam(),\n",
    "    metrics=[tf.keras.metrics.RootMeanSquaredError()]\n",
    ")"
   ]
  },
  {
   "cell_type": "code",
   "execution_count": 48,
   "metadata": {},
   "outputs": [
    {
     "name": "stdout",
     "output_type": "stream",
     "text": [
      "Epoch 1/50\n",
      "2205/2205 [==============================] - 3s 1ms/step - loss: 42.6713 - root_mean_squared_error: 6.5323\n",
      "Epoch 2/50\n",
      "2205/2205 [==============================] - 2s 1ms/step - loss: 32.9695 - root_mean_squared_error: 5.7419\n",
      "Epoch 3/50\n",
      "2205/2205 [==============================] - 2s 1ms/step - loss: 32.2011 - root_mean_squared_error: 5.6746\n",
      "Epoch 4/50\n",
      "2205/2205 [==============================] - 2s 1ms/step - loss: 31.7506 - root_mean_squared_error: 5.6348\n",
      "Epoch 5/50\n",
      "2205/2205 [==============================] - 2s 1ms/step - loss: 32.2533 - root_mean_squared_error: 5.6792\n",
      "Epoch 6/50\n",
      "2205/2205 [==============================] - 2s 1ms/step - loss: 30.7621 - root_mean_squared_error: 5.5464\n",
      "Epoch 7/50\n",
      "2205/2205 [==============================] - 2s 1ms/step - loss: 30.8570 - root_mean_squared_error: 5.5549\n",
      "Epoch 8/50\n",
      "2205/2205 [==============================] - 2s 1ms/step - loss: 30.4663 - root_mean_squared_error: 5.5196\n",
      "Epoch 9/50\n",
      "2205/2205 [==============================] - 2s 1ms/step - loss: 30.4103 - root_mean_squared_error: 5.5145\n",
      "Epoch 10/50\n",
      "2205/2205 [==============================] - 2s 1ms/step - loss: 30.3563 - root_mean_squared_error: 5.5097\n",
      "Epoch 11/50\n",
      "2205/2205 [==============================] - 2s 1ms/step - loss: 30.5320 - root_mean_squared_error: 5.5256\n",
      "Epoch 12/50\n",
      "2205/2205 [==============================] - 2s 1ms/step - loss: 29.4883 - root_mean_squared_error: 5.4303\n",
      "Epoch 13/50\n",
      "2205/2205 [==============================] - 2s 1ms/step - loss: 30.1329 - root_mean_squared_error: 5.4893\n",
      "Epoch 14/50\n",
      "2205/2205 [==============================] - 2s 1ms/step - loss: 29.4321 - root_mean_squared_error: 5.4251\n",
      "Epoch 15/50\n",
      "2205/2205 [==============================] - 2s 1ms/step - loss: 29.5505 - root_mean_squared_error: 5.4360\n",
      "Epoch 16/50\n",
      "2205/2205 [==============================] - 2s 1ms/step - loss: 29.1985 - root_mean_squared_error: 5.4036\n",
      "Epoch 17/50\n",
      "2205/2205 [==============================] - 2s 1ms/step - loss: 29.3142 - root_mean_squared_error: 5.4143\n",
      "Epoch 18/50\n",
      "2205/2205 [==============================] - 2s 1ms/step - loss: 29.0672 - root_mean_squared_error: 5.3914\n",
      "Epoch 19/50\n",
      "2205/2205 [==============================] - 2s 1ms/step - loss: 29.5657 - root_mean_squared_error: 5.4374\n",
      "Epoch 20/50\n",
      "2205/2205 [==============================] - 2s 1ms/step - loss: 28.6326 - root_mean_squared_error: 5.3509\n",
      "Epoch 21/50\n",
      "2205/2205 [==============================] - 2s 1ms/step - loss: 28.8417 - root_mean_squared_error: 5.3704\n",
      "Epoch 22/50\n",
      "2205/2205 [==============================] - 2s 1ms/step - loss: 28.7476 - root_mean_squared_error: 5.3617\n",
      "Epoch 23/50\n",
      "2205/2205 [==============================] - 2s 1ms/step - loss: 28.9132 - root_mean_squared_error: 5.3771\n",
      "Epoch 24/50\n",
      "2205/2205 [==============================] - 2s 1ms/step - loss: 28.9552 - root_mean_squared_error: 5.3810\n",
      "Epoch 25/50\n",
      "2205/2205 [==============================] - 2s 1ms/step - loss: 28.4348 - root_mean_squared_error: 5.3324\n",
      "Epoch 26/50\n",
      "2205/2205 [==============================] - 2s 1ms/step - loss: 28.9016 - root_mean_squared_error: 5.3760\n",
      "Epoch 27/50\n",
      "2205/2205 [==============================] - 2s 1ms/step - loss: 28.3325 - root_mean_squared_error: 5.3228\n",
      "Epoch 28/50\n",
      "2205/2205 [==============================] - 2s 1ms/step - loss: 28.4104 - root_mean_squared_error: 5.3301\n",
      "Epoch 29/50\n",
      "2205/2205 [==============================] - 2s 1ms/step - loss: 28.3728 - root_mean_squared_error: 5.3266\n",
      "Epoch 30/50\n",
      "2205/2205 [==============================] - 2s 1ms/step - loss: 28.3282 - root_mean_squared_error: 5.3224\n",
      "Epoch 31/50\n",
      "2205/2205 [==============================] - 2s 1ms/step - loss: 28.1238 - root_mean_squared_error: 5.3032\n",
      "Epoch 32/50\n",
      "2205/2205 [==============================] - 2s 1ms/step - loss: 28.1640 - root_mean_squared_error: 5.3070\n",
      "Epoch 33/50\n",
      "2205/2205 [==============================] - 2s 1ms/step - loss: 27.9561 - root_mean_squared_error: 5.2874\n",
      "Epoch 34/50\n",
      "2205/2205 [==============================] - 2s 1ms/step - loss: 28.3471 - root_mean_squared_error: 5.3242\n",
      "Epoch 35/50\n",
      "2205/2205 [==============================] - 2s 1ms/step - loss: 27.7486 - root_mean_squared_error: 5.2677\n",
      "Epoch 36/50\n",
      "2205/2205 [==============================] - 2s 1ms/step - loss: 27.9425 - root_mean_squared_error: 5.2861\n",
      "Epoch 37/50\n",
      "2205/2205 [==============================] - 2s 1ms/step - loss: 27.7175 - root_mean_squared_error: 5.2647\n",
      "Epoch 38/50\n",
      "2205/2205 [==============================] - 2s 1ms/step - loss: 27.7237 - root_mean_squared_error: 5.2653\n",
      "Epoch 39/50\n",
      "2205/2205 [==============================] - 2s 1ms/step - loss: 27.9430 - root_mean_squared_error: 5.2861\n",
      "Epoch 40/50\n",
      "2205/2205 [==============================] - 2s 1ms/step - loss: 27.8326 - root_mean_squared_error: 5.2757\n",
      "Epoch 41/50\n",
      "2205/2205 [==============================] - 2s 1ms/step - loss: 27.8258 - root_mean_squared_error: 5.2750\n",
      "Epoch 42/50\n",
      "2205/2205 [==============================] - 2s 1ms/step - loss: 27.6871 - root_mean_squared_error: 5.2619\n",
      "Epoch 43/50\n",
      "2205/2205 [==============================] - 2s 1ms/step - loss: 27.6355 - root_mean_squared_error: 5.2569\n",
      "Epoch 44/50\n",
      "2205/2205 [==============================] - 2s 1ms/step - loss: 27.6116 - root_mean_squared_error: 5.2547\n",
      "Epoch 45/50\n",
      "2205/2205 [==============================] - 2s 1ms/step - loss: 27.7971 - root_mean_squared_error: 5.2723\n",
      "Epoch 46/50\n",
      "2205/2205 [==============================] - 2s 1ms/step - loss: 27.7601 - root_mean_squared_error: 5.2688\n",
      "Epoch 47/50\n",
      "2205/2205 [==============================] - 2s 1ms/step - loss: 27.4377 - root_mean_squared_error: 5.2381\n",
      "Epoch 48/50\n",
      "2205/2205 [==============================] - 2s 1ms/step - loss: 27.5193 - root_mean_squared_error: 5.2459\n",
      "Epoch 49/50\n",
      "2205/2205 [==============================] - 2s 1ms/step - loss: 27.5240 - root_mean_squared_error: 5.2463\n",
      "Epoch 50/50\n",
      "2205/2205 [==============================] - 2s 1ms/step - loss: 27.2346 - root_mean_squared_error: 5.2187\n"
     ]
    }
   ],
   "source": [
    "history = nn_model.fit(\n",
    "    X_train, y_train,\n",
    "    epochs = 50,\n",
    "    shuffle = True,\n",
    ")"
   ]
  },
  {
   "cell_type": "code",
   "execution_count": null,
   "metadata": {},
   "outputs": [
    {
     "name": "stdout",
     "output_type": "stream",
     "text": [
      "552/552 [==============================] - 1s 746us/step - loss: 26.8251 - root_mean_squared_error: 5.1793\n"
     ]
    },
    {
     "data": {
      "text/plain": [
       "[26.825057983398438, 5.179291248321533]"
      ]
     },
     "execution_count": 42,
     "metadata": {},
     "output_type": "execute_result"
    }
   ],
   "source": [
    "nn_model.evaluate(X_test, y_test)"
   ]
  },
  {
   "cell_type": "code",
   "execution_count": 34,
   "metadata": {},
   "outputs": [
    {
     "data": {
      "text/plain": [
       "Text(0.5, 0, 'epochs')"
      ]
     },
     "execution_count": 34,
     "metadata": {},
     "output_type": "execute_result"
    },
    {
     "data": {
      "image/png": "[encoded data removed]",
      "text/plain": [
       "<Figure size 640x480 with 1 Axes>"
      ]
     },
     "metadata": {},
     "output_type": "display_data"
    }
   ],
   "source": [
    "pd.DataFrame(history.history).plot()\n",
    "plt.ylabel(\"Loss\")\n",
    "plt.xlabel(\"epochs\")"
   ]
  },
  {
   "cell_type": "code",
   "execution_count": 63,
   "metadata": {},
   "outputs": [],
   "source": [
    "def build_model(hp):\n",
    "    print(\"\\nBuilding model with the following hyperparameters:\")\n",
    "    \n",
    "    model = tf.keras.Sequential()\n",
    "    input_shape = X.shape[1]\n",
    "    \n",
    "    model.add(layers.Dense(input_shape, input_shape=(input_shape,), activation='relu', name=\"input_layer\"))\n",
    "    print(f\"Added input layer with {input_shape} units and 'relu' activation.\")\n",
    "    \n",
    "    num_layers = hp.Int('num_layers', 3, 10)\n",
    "    print(f\"Number of hidden layers: {num_layers}\")\n",
    "    \n",
    "    for i in range(num_layers):\n",
    "        units = hp.Choice(f'units_{i}', values=[8, 16, 32, 64, 128, 256, 512, 1024])\n",
    "        activation = hp.Choice(f'activation_{i}', values=['relu', 'gelu', 'linear', 'leaky_relu'])\n",
    "        model.add(layers.Dense(units=units, activation=activation))\n",
    "        print(f\"Added hidden layer {i+1} with {units} units and '{activation}' activation.\")\n",
    "    \n",
    "    model.add(layers.Dense(1, activation=None, name=\"output_layer\"))\n",
    "    print(\"Added output layer with 1 unit and no activation.\")\n",
    "    \n",
    "    learning_rate = hp.Choice('learning_rate', [1.5e-2, 1e-2, 1e-3, 1e-4])\n",
    "    model.compile(\n",
    "        optimizer=tf.keras.optimizers.Adam(learning_rate),\n",
    "        loss=tf.keras.losses.MeanSquaredError(),\n",
    "        metrics=[tf.keras.metrics.RootMeanSquaredError()]\n",
    "    )\n",
    "    print(f\"Model compiled with learning rate: {learning_rate}\")\n",
    "    \n",
    "    print(\"Model building completed.\\n\")\n",
    "    \n",
    "    return model"
   ]
  },
  {
   "cell_type": "code",
   "execution_count": null,
   "metadata": {},
   "outputs": [],
   "source": [
    "tuner = RandomSearch(\n",
    "    hypermodel=build_model,\n",
    "    objective=Objective(\"val_root_mean_squared_error\", direction=\"min\"),\n",
    "    max_trials=50,\n",
    "    executions_per_trial=3,\n",
    "    project_name='tuning',\n",
    "    seed=42\n",
    ")\n",
    "\n",
    "tuner.search(X_train, y_train, epochs=40, validation_data=(X_val, y_val))\n",
    "\n",
    "best_model = tuner.get_best_models(num_models=1)[0]\n",
    "best_hyperparameters = tuner.get_best_hyperparameters(num_trials=1)[0]\n",
    "\n",
    "print(best_hyperparameters.values)"
   ]
  },
  {
   "cell_type": "code",
   "execution_count": 64,
   "metadata": {},
   "outputs": [],
   "source": [
    "def bayesian_optimization_neural_net(X, y, features_to_scale, n_iter=10, random_state=42):\n",
    "    \"\"\"\n",
    "    Use Bayesian Optimization to find the best neural network architecture and hyperparameters.\n",
    "\n",
    "    Parameters:\n",
    "    - X: DataFrame, features\n",
    "    - y: Series, target variable\n",
    "    - features_to_scale: list, names of the features to be standardized\n",
    "    - n_iter: int, number of iterations for Bayesian Optimization\n",
    "    - random_state: int, random seed for reproducibility\n",
    "\n",
    "    Returns:\n",
    "    - best_model: tf.keras.Model, the best model found\n",
    "    - best_hyperparameters: dict, best hyperparameters found\n",
    "    \"\"\"\n",
    "    X_train, X_test, y_train, y_test = train_test_split(X, y, test_size=0.2, random_state=random_state)\n",
    "    X_train, X_test = standardize_train_val(X_train, X_test, features_to_scale)\n",
    "\n",
    "    tuner = BayesianOptimization(\n",
    "        hypermodel=build_model,\n",
    "        objective=Objective(\"val_root_mean_squared_error\", direction=\"min\"),\n",
    "        max_trials=n_iter,\n",
    "        executions_per_trial=2,\n",
    "        project_name='neural_net_tuning_bayesian',\n",
    "        seed=random_state\n",
    "    )\n",
    "\n",
    "    tuner.search(X_train, y_train, epochs=40, validation_split=0.2, verbose=1, callbacks=[tf.keras.callbacks.EarlyStopping(monitor='val_loss', patience=5)])\n",
    "\n",
    "    best_model = tuner.get_best_models(num_models=1)[0]\n",
    "    best_hyperparameters = tuner.get_best_hyperparameters(num_trials=1)[0]\n",
    "\n",
    "    return best_model, best_hyperparameters"
   ]
  },
  {
   "cell_type": "code",
   "execution_count": 66,
   "metadata": {},
   "outputs": [
    {
     "name": "stdout",
     "output_type": "stream",
     "text": [
      "Trial 100 Complete [00h 03m 40s]\n",
      "val_root_mean_squared_error: 5.093004465103149\n",
      "\n",
      "Best val_root_mean_squared_error So Far: 4.919163227081299\n",
      "Total elapsed time: 05h 11m 28s\n",
      "\n",
      "Building model with the following hyperparameters:\n",
      "Added input layer with 32 units and 'relu' activation.\n",
      "Number of hidden layers: 6\n",
      "Added hidden layer 1 with 32 units and 'linear' activation.\n",
      "Added hidden layer 2 with 8 units and 'relu' activation.\n",
      "Added hidden layer 3 with 64 units and 'gelu' activation.\n",
      "Added hidden layer 4 with 128 units and 'leaky_relu' activation.\n",
      "Added hidden layer 5 with 1024 units and 'relu' activation.\n",
      "Added hidden layer 6 with 512 units and 'relu' activation.\n",
      "Added output layer with 1 unit and no activation.\n",
      "Model compiled with learning rate: 0.001\n",
      "Model building completed.\n",
      "\n",
      "WARNING:tensorflow:Detecting that an object or model or tf.train.Checkpoint is being deleted with unrestored values. See the following logs for the specific values in question. To silence these warnings, use `status.expect_partial()`. See https://www.tensorflow.org/api_docs/python/tf/train/Checkpoint#restorefor details about the status object returned by the restore function.\n",
      "WARNING:tensorflow:Value in checkpoint could not be found in the restored object: (root).optimizer._variables.1\n",
      "WARNING:tensorflow:Value in checkpoint could not be found in the restored object: (root).optimizer._variables.2\n",
      "WARNING:tensorflow:Value in checkpoint could not be found in the restored object: (root).optimizer._variables.3\n",
      "WARNING:tensorflow:Value in checkpoint could not be found in the restored object: (root).optimizer._variables.4\n",
      "WARNING:tensorflow:Value in checkpoint could not be found in the restored object: (root).optimizer._variables.5\n",
      "WARNING:tensorflow:Value in checkpoint could not be found in the restored object: (root).optimizer._variables.6\n",
      "WARNING:tensorflow:Value in checkpoint could not be found in the restored object: (root).optimizer._variables.7\n",
      "WARNING:tensorflow:Value in checkpoint could not be found in the restored object: (root).optimizer._variables.8\n",
      "WARNING:tensorflow:Value in checkpoint could not be found in the restored object: (root).optimizer._variables.9\n",
      "WARNING:tensorflow:Value in checkpoint could not be found in the restored object: (root).optimizer._variables.10\n",
      "WARNING:tensorflow:Value in checkpoint could not be found in the restored object: (root).optimizer._variables.11\n",
      "WARNING:tensorflow:Value in checkpoint could not be found in the restored object: (root).optimizer._variables.12\n",
      "WARNING:tensorflow:Value in checkpoint could not be found in the restored object: (root).optimizer._variables.13\n",
      "WARNING:tensorflow:Value in checkpoint could not be found in the restored object: (root).optimizer._variables.14\n",
      "WARNING:tensorflow:Value in checkpoint could not be found in the restored object: (root).optimizer._variables.15\n",
      "WARNING:tensorflow:Value in checkpoint could not be found in the restored object: (root).optimizer._variables.16\n",
      "WARNING:tensorflow:Value in checkpoint could not be found in the restored object: (root).optimizer._variables.17\n",
      "WARNING:tensorflow:Value in checkpoint could not be found in the restored object: (root).optimizer._variables.18\n",
      "WARNING:tensorflow:Value in checkpoint could not be found in the restored object: (root).optimizer._variables.19\n",
      "WARNING:tensorflow:Value in checkpoint could not be found in the restored object: (root).optimizer._variables.20\n",
      "Best Hyperparameters: <keras_tuner.src.engine.hyperparameters.hyperparameters.HyperParameters object at 0x0000020CF38B4640>\n",
      "Best RMSE: <keras.src.engine.sequential.Sequential object at 0x0000020D793B68C0>\n"
     ]
    }
   ],
   "source": [
    "best_model, best_hyperparameters = bayesian_optimization_neural_net(X, y, \n",
    "                            features_to_scale=features_to_scale, \n",
    "                            n_iter=100, \n",
    "                            random_state=42)\n",
    "print(\"Best Hyperparameters:\", best_hyperparameters)\n",
    "print(\"Best RMSE:\", best_model)"
   ]
  },
  {
   "cell_type": "code",
   "execution_count": 58,
   "metadata": {},
   "outputs": [
    {
     "name": "stdout",
     "output_type": "stream",
     "text": [
      "Best Hyperparameters:\n",
      "num_layers: 12\n",
      "units_0: 8\n",
      "activation_0: linear\n",
      "units_1: 16\n",
      "activation_1: gelu\n",
      "units_2: 64\n",
      "activation_2: leaky_relu\n",
      "units_3: 64\n",
      "activation_3: gelu\n",
      "units_4: 64\n",
      "activation_4: relu\n",
      "units_5: 8\n",
      "activation_5: linear\n",
      "learning_rate: 0.001\n",
      "units_6: 1024\n",
      "activation_6: gelu\n",
      "units_7: 8\n",
      "activation_7: gelu\n",
      "units_8: 512\n",
      "activation_8: gelu\n",
      "units_9: 32\n",
      "activation_9: leaky_relu\n",
      "units_10: 8\n",
      "activation_10: relu\n",
      "units_11: 8\n",
      "activation_11: relu\n",
      "Best RMSE on Test Set: 14.7780\n"
     ]
    }
   ],
   "source": [
    "print(\"Best Hyperparameters:\")\n",
    "for param, value in best_hyperparameters.values.items():\n",
    "    print(f\"{param}: {value}\")\n",
    "\n",
    "test_loss, test_rmse = best_model.evaluate(X_test, y_test, verbose=0)\n",
    "print(f\"Best RMSE on Test Set: {test_rmse:.4f}\")"
   ]
  }
 ],
 "metadata": {
  "kernelspec": {
   "display_name": "Python 3",
   "language": "python",
   "name": "python3"
  },
  "language_info": {
   "codemirror_mode": {
    "name": "ipython",
    "version": 3
   },
   "file_extension": ".py",
   "mimetype": "text/x-python",
   "name": "python",
   "nbconvert_exporter": "python",
   "pygments_lexer": "ipython3",
   "version": "3.10.7"
  }
 },
 "nbformat": 4,
 "nbformat_minor": 2
}
